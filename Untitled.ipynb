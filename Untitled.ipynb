{
 "cells": [
  {
   "cell_type": "code",
   "execution_count": 5,
   "metadata": {
    "collapsed": false
   },
   "outputs": [
    {
     "name": "stdout",
     "output_type": "stream",
     "text": [
      "10887.804878\n",
      "3.41666666667\n"
     ]
    }
   ],
   "source": [
    "print (0.93/(205/60.0))*40000\n",
    "print 205/60.0\n"
   ]
  },
  {
   "cell_type": "code",
   "execution_count": 6,
   "metadata": {
    "collapsed": true
   },
   "outputs": [],
   "source": [
    "import math"
   ]
  },
  {
   "cell_type": "code",
   "execution_count": 12,
   "metadata": {
    "collapsed": false
   },
   "outputs": [
    {
     "name": "stdout",
     "output_type": "stream",
     "text": [
      "0.000339734590058\n"
     ]
    }
   ],
   "source": [
    "tangent = (5000*0.185)/156000000\n",
    "print math.degrees(math.atan(tangent))"
   ]
  },
  {
   "cell_type": "code",
   "execution_count": 20,
   "metadata": {
    "collapsed": false
   },
   "outputs": [
    {
     "name": "stdout",
     "output_type": "stream",
     "text": [
      "36.25\n",
      "96.25\n"
     ]
    }
   ],
   "source": [
    "k= math.degrees(math.atan(60/15))\n",
    "a = 90-k\n",
    "h = 145 * math.tan(math.radians(a))\n",
    "print h\n",
    "m = 205 * math.tan(math.radians(a))\n",
    "print m + 45"
   ]
  }
 ],
 "metadata": {
  "kernelspec": {
   "display_name": "Python 2",
   "language": "python",
   "name": "python2"
  },
  "language_info": {
   "codemirror_mode": {
    "name": "ipython",
    "version": 2
   },
   "file_extension": ".py",
   "mimetype": "text/x-python",
   "name": "python",
   "nbconvert_exporter": "python",
   "pygments_lexer": "ipython2",
   "version": "2.7.6"
  }
 },
 "nbformat": 4,
 "nbformat_minor": 0
}
